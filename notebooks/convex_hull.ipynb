{
 "cells": [
  {
   "cell_type": "code",
   "execution_count": 1,
   "metadata": {},
   "outputs": [],
   "source": [
    "import baggianalysis as ba\n",
    "import numpy as np"
   ]
  },
  {
   "cell_type": "code",
   "execution_count": 2,
   "metadata": {},
   "outputs": [],
   "source": [
    "parser = ba.GenericOxDNAParser(\"ba_topology.dat\")\n",
    "trajectory = ba.FullTrajectory(parser)\n",
    "trajectory.initialise_from_trajectory_file(\"trajectory.dat\")"
   ]
  },
  {
   "cell_type": "code",
   "execution_count": 3,
   "metadata": {},
   "outputs": [],
   "source": [
    "def get_eigenvalues(ch_result):\n",
    "    triangle_coms = np.array(list(map(lambda t: (t.v1 + t.v2 + t.v3) / 3., ch_result.triangles)))\n",
    "    ch_com = np.average(triangle_coms, axis=0)\n",
    "    triangle_coms -= ch_com\n",
    "    \n",
    "    # https://stackoverflow.com/questions/62153830/how-do-i-efficiently-compute-the-gyration-tensor-in-numpy\n",
    "    gyr_tensor = np.einsum('im,in->mn', triangle_coms, triangle_coms) / triangle_coms.shape[0]\n",
    "    ev, _ = np.linalg.eig(gyr_tensor)\n",
    "    ev = sorted(ev)\n",
    "    \n",
    "    return ev\n"
   ]
  },
  {
   "cell_type": "code",
   "execution_count": 4,
   "metadata": {},
   "outputs": [],
   "source": [
    "ch = ba.ConvexHull()\n",
    "trajectory.reset()\n",
    "system = trajectory.next_frame()\n",
    "evs = []\n",
    "while system != None:\n",
    "    ch.analyse_system(system)\n",
    "    result = ch.result()\n",
    "    \n",
    "    evs.append(get_eigenvalues(result))\n",
    "    \n",
    "    system = trajectory.next_frame()"
   ]
  },
  {
   "cell_type": "code",
   "execution_count": 5,
   "metadata": {},
   "outputs": [],
   "source": [
    "R2 = np.average(evs, axis=0)\n",
    "strains = evs / R2\n",
    "\n",
    "J = np.sqrt(np.prod(strains, axis=1))\n",
    "I = np.sum(strains, axis=1) * J**(-2./3.)\n",
    "\n",
    "np.savetxt(\"J_ch.dat\", J)\n",
    "np.savetxt(\"I_ch.dat\", I)"
   ]
  },
  {
   "cell_type": "code",
   "execution_count": 6,
   "metadata": {},
   "outputs": [],
   "source": [
    "def make_pmf(x, remove_last=None):\n",
    "    hist, bins = np.histogram(x, bins='auto', density=True)\n",
    "    bins = bins[:-1] + (bins[1] - bins[0]) / 2.\n",
    "    result = np.column_stack((bins, hist))\n",
    "    # get rid of the last points\n",
    "    if remove_last is not None:\n",
    "        if len(bins) < 2 * remove_last:\n",
    "            remove_last = len(bins) / 5\n",
    "        result = result[result[:,1] > 0][:-remove_last]\n",
    "    else:\n",
    "        result = result[result[:,1] > 0]\n",
    "    result[:,1] = -np.log(result[:,1])\n",
    "\n",
    "    return result\n",
    "\n",
    "def fit_J(x, m, D0, b):\n",
    "    return m * (x - D0)**2. + b\n",
    "\n",
    "def fit_I(x, m, b):\n",
    "    return m * x + b\n",
    "\n",
    "pmf_J = make_pmf(J)\n",
    "pmf_I = make_pmf(I, 10)\n",
    "\n",
    "np.savetxt(\"J_ch_pmf.dat\", pmf_J)\n",
    "np.savetxt(\"I_ch_pmf.dat\", pmf_I)"
   ]
  },
  {
   "cell_type": "code",
   "execution_count": 7,
   "metadata": {},
   "outputs": [
    {
     "name": "stdout",
     "output_type": "stream",
     "text": [
      "V average: 8059.610662509122\n",
      "J delta: 61.182640736104396\n",
      "I slope: 89.99070304675156\n",
      "K: 0.015182530099303081\n",
      "G: 0.022331277977324926\n",
      "Y: 0.044953720914246195\n",
      "nu: 0.006519218467747456\n",
      "D: 33.36623129700734\n",
      "coeff: 0.005994084205066883\n"
     ]
    }
   ],
   "source": [
    "import scipy.optimize as opt\n",
    "\n",
    "V_all = 4. * np.pi * np.sqrt(3) * np.prod(np.sqrt(evs), axis=1)\n",
    "V = np.average(V_all)\n",
    "print(\"V average:\", V)\n",
    "\n",
    "x0, y0 = pmf_J[np.argmin(pmf_J[:,1])]\n",
    "initial_guess = (100., x0, y0)\n",
    "to_fit = pmf_J[(pmf_J[:,0] > 0.90) & (pmf_J[:,0] < 1.10)]\n",
    "params, _ = opt.curve_fit(fit_J, to_fit[:,0], to_fit[:,1], p0=initial_guess)\n",
    "delta, J0, b = params\n",
    "K = 2. * delta / V\n",
    "print(\"J delta:\", delta)\n",
    "\n",
    "to_fit = pmf_I\n",
    "x_initial = to_fit[0,0]\n",
    "x_final = to_fit[1,0]\n",
    "y_initial = to_fit[0,1]\n",
    "y_final = to_fit[1,1]\n",
    "initial_slope = (y_final - y_initial) / (x_final - x_initial)\n",
    "initial_intercept = y_initial - initial_slope * x_initial\n",
    "initial_guess = (initial_slope, initial_intercept)\n",
    "params, _ = opt.curve_fit(fit_I, to_fit[:,0], to_fit[:,1], p0=initial_guess)\n",
    "G = 2. * params[0] / V\n",
    "print(\"I slope:\", params[0])\n",
    "\n",
    "Y = 9. * K * G / (3. * K + G)\n",
    "nu = (3. * K - Y) / (6. * K)\n",
    "\n",
    "D = 1.5 * (1. - nu**2.) / Y\n",
    "hertzian_coeff = 1. / (5. * D)\n",
    "\n",
    "print(\"K:\", K)\n",
    "print(\"G:\", G)\n",
    "print(\"Y:\", Y)\n",
    "print(\"nu:\", nu)\n",
    "print(\"D:\", D)\n",
    "print(\"coeff:\", hertzian_coeff)"
   ]
  },
  {
   "cell_type": "code",
   "execution_count": null,
   "metadata": {},
   "outputs": [],
   "source": []
  }
 ],
 "metadata": {
  "kernelspec": {
   "display_name": "Python 3",
   "language": "python",
   "name": "python3"
  },
  "language_info": {
   "codemirror_mode": {
    "name": "ipython",
    "version": 3
   },
   "file_extension": ".py",
   "mimetype": "text/x-python",
   "name": "python",
   "nbconvert_exporter": "python",
   "pygments_lexer": "ipython3",
   "version": "3.8.5"
  }
 },
 "nbformat": 4,
 "nbformat_minor": 4
}
